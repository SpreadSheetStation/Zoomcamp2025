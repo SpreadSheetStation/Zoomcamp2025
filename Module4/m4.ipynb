{
 "cells": [
  {
   "cell_type": "code",
   "execution_count": 1,
   "id": "5ad7564d-460e-435d-8b40-672e1ab53d31",
   "metadata": {},
   "outputs": [
    {
     "name": "stdout",
     "output_type": "stream",
     "text": [
      "Collecting dbt\n",
      "  Using cached dbt-1.0.0.38.27.tar.gz (3.3 kB)\n",
      "  Preparing metadata (setup.py) ... \u001b[?25ldone\n",
      "\u001b[?25hRequirement already satisfied: setuptools>=61.2 in /opt/anaconda3/envs/pandas-playground/lib/python3.10/site-packages (from dbt) (72.1.0)\n",
      "Building wheels for collected packages: dbt\n",
      "  Building wheel for dbt (setup.py) ... \u001b[?25ldone\n",
      "\u001b[?25h  Created wheel for dbt: filename=dbt-1.0.0.38.27-py3-none-any.whl size=2132 sha256=d5b1c2ced7189720b442f0169cb6ed1d5f4eca30bca1a32ea78604b1ba610dfa\n",
      "  Stored in directory: /Users/neogami/Library/Caches/pip/wheels/4d/2d/92/9cc21074495fd896dcb1606abdce932175c6ab73aca8436076\n",
      "Successfully built dbt\n",
      "Installing collected packages: dbt\n",
      "Successfully installed dbt-1.0.0.38.27\n",
      "Note: you may need to restart the kernel to use updated packages.\n"
     ]
    }
   ],
   "source": [
    "pip install dbt"
   ]
  },
  {
   "cell_type": "code",
   "execution_count": 2,
   "id": "5148dc4d-9a7f-4563-b634-0907e64039c5",
   "metadata": {},
   "outputs": [
    {
     "name": "stdout",
     "output_type": "stream",
     "text": [
      "Error: unknown command \"init\" for \"dbt\"\n",
      "Run 'dbt --help' for usage.\n"
     ]
    }
   ],
   "source": [
    "!dbt init"
   ]
  },
  {
   "cell_type": "code",
   "execution_count": 5,
   "id": "6c59c9f8-0563-412e-93cd-54af101f9b5d",
   "metadata": {},
   "outputs": [
    {
     "name": "stdout",
     "output_type": "stream",
     "text": [
      "/opt/anaconda3/envs/pandas-playground/bin/dbt\n"
     ]
    }
   ],
   "source": [
    "!which dbt"
   ]
  },
  {
   "cell_type": "code",
   "execution_count": 3,
   "id": "4bcd042a-8b60-472b-b3cb-e2f73c5b26d5",
   "metadata": {},
   "outputs": [
    {
     "name": "stdout",
     "output_type": "stream",
     "text": [
      "dbt Cloud CLI - 0.38.27 (7a8c05adcbcf1369a7162f4b6ab6c4ae4550c087 2025-02-18T19:40:57Z)\n",
      "\n",
      "\n"
     ]
    }
   ],
   "source": [
    "!dbt --version"
   ]
  },
  {
   "cell_type": "code",
   "execution_count": null,
   "id": "e25e05d5-e84d-42b2-a9e3-9b3b9fe7287a",
   "metadata": {},
   "outputs": [],
   "source": []
  }
 ],
 "metadata": {
  "kernelspec": {
   "display_name": "Python [conda env:pandas-playground]",
   "language": "python",
   "name": "conda-env-pandas-playground-py"
  },
  "language_info": {
   "codemirror_mode": {
    "name": "ipython",
    "version": 3
   },
   "file_extension": ".py",
   "mimetype": "text/x-python",
   "name": "python",
   "nbconvert_exporter": "python",
   "pygments_lexer": "ipython3",
   "version": "3.10.15"
  }
 },
 "nbformat": 4,
 "nbformat_minor": 5
}
