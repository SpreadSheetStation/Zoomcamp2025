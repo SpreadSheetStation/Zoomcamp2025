{
 "cells": [
  {
   "cell_type": "code",
   "execution_count": 2,
   "id": "473e64a2-1f88-492c-82d9-0b3dd3e6cb1c",
   "metadata": {},
   "outputs": [],
   "source": [
    "import pandas as pd"
   ]
  },
  {
   "cell_type": "code",
   "execution_count": 3,
   "id": "804d27e5-e88d-468f-96a5-064cdccc901d",
   "metadata": {},
   "outputs": [],
   "source": [
    "from pandas.io.sql import get_schema"
   ]
  },
  {
   "cell_type": "code",
   "execution_count": 5,
   "id": "89600188-57e1-480b-a25d-a40f43f4e31e",
   "metadata": {},
   "outputs": [
    {
     "data": {
      "text/plain": [
       "'2.2.3'"
      ]
     },
     "execution_count": 5,
     "metadata": {},
     "output_type": "execute_result"
    }
   ],
   "source": [
    "pd.__version__"
   ]
  },
  {
   "cell_type": "code",
   "execution_count": 10,
   "id": "d6c70bbe-6c75-457b-a496-6a39925d474f",
   "metadata": {},
   "outputs": [],
   "source": [
    "df = pd.read_csv('fhv_tripdata_2020-04.csv', nrows=500)"
   ]
  },
  {
   "cell_type": "code",
   "execution_count": 9,
   "id": "4622f74f-f06f-4765-bd18-4d2a207b1c26",
   "metadata": {},
   "outputs": [
    {
     "data": {
      "text/html": [
       "<div>\n",
       "<style scoped>\n",
       "    .dataframe tbody tr th:only-of-type {\n",
       "        vertical-align: middle;\n",
       "    }\n",
       "\n",
       "    .dataframe tbody tr th {\n",
       "        vertical-align: top;\n",
       "    }\n",
       "\n",
       "    .dataframe thead th {\n",
       "        text-align: right;\n",
       "    }\n",
       "</style>\n",
       "<table border=\"1\" class=\"dataframe\">\n",
       "  <thead>\n",
       "    <tr style=\"text-align: right;\">\n",
       "      <th></th>\n",
       "      <th>dispatching_base_num</th>\n",
       "      <th>pickup_datetime</th>\n",
       "      <th>dropoff_datetime</th>\n",
       "      <th>PULocationID</th>\n",
       "      <th>DOLocationID</th>\n",
       "      <th>SR_Flag</th>\n",
       "      <th>Affiliated_base_number</th>\n",
       "    </tr>\n",
       "  </thead>\n",
       "  <tbody>\n",
       "    <tr>\n",
       "      <th>0</th>\n",
       "      <td>B00008</td>\n",
       "      <td>2020-04-01 00:45:00</td>\n",
       "      <td>2020-04-01 00:58:00</td>\n",
       "      <td>264.0</td>\n",
       "      <td>264</td>\n",
       "      <td>NaN</td>\n",
       "      <td>B00008</td>\n",
       "    </tr>\n",
       "    <tr>\n",
       "      <th>1</th>\n",
       "      <td>B00037</td>\n",
       "      <td>2020-04-01 00:04:17</td>\n",
       "      <td>2020-04-01 00:17:31</td>\n",
       "      <td>264.0</td>\n",
       "      <td>76</td>\n",
       "      <td>NaN</td>\n",
       "      <td>B00037</td>\n",
       "    </tr>\n",
       "    <tr>\n",
       "      <th>2</th>\n",
       "      <td>B00037</td>\n",
       "      <td>2020-04-01 00:29:01</td>\n",
       "      <td>2020-04-01 00:33:58</td>\n",
       "      <td>264.0</td>\n",
       "      <td>35</td>\n",
       "      <td>NaN</td>\n",
       "      <td>B00037</td>\n",
       "    </tr>\n",
       "    <tr>\n",
       "      <th>3</th>\n",
       "      <td>B00037</td>\n",
       "      <td>2020-04-01 00:13:55</td>\n",
       "      <td>2020-04-01 00:18:30</td>\n",
       "      <td>264.0</td>\n",
       "      <td>188</td>\n",
       "      <td>NaN</td>\n",
       "      <td>B00037</td>\n",
       "    </tr>\n",
       "    <tr>\n",
       "      <th>4</th>\n",
       "      <td>B00037</td>\n",
       "      <td>2020-04-01 00:28:59</td>\n",
       "      <td>2020-04-01 00:31:02</td>\n",
       "      <td>264.0</td>\n",
       "      <td>188</td>\n",
       "      <td>NaN</td>\n",
       "      <td>B00037</td>\n",
       "    </tr>\n",
       "    <tr>\n",
       "      <th>...</th>\n",
       "      <td>...</td>\n",
       "      <td>...</td>\n",
       "      <td>...</td>\n",
       "      <td>...</td>\n",
       "      <td>...</td>\n",
       "      <td>...</td>\n",
       "      <td>...</td>\n",
       "    </tr>\n",
       "    <tr>\n",
       "      <th>95</th>\n",
       "      <td>B01145</td>\n",
       "      <td>2020-04-01 00:55:28</td>\n",
       "      <td>2020-04-01 01:00:01</td>\n",
       "      <td>264.0</td>\n",
       "      <td>242</td>\n",
       "      <td>NaN</td>\n",
       "      <td>B02866</td>\n",
       "    </tr>\n",
       "    <tr>\n",
       "      <th>96</th>\n",
       "      <td>B01145</td>\n",
       "      <td>2020-04-01 00:03:29</td>\n",
       "      <td>2020-04-01 00:19:56</td>\n",
       "      <td>264.0</td>\n",
       "      <td>244</td>\n",
       "      <td>NaN</td>\n",
       "      <td>B02682</td>\n",
       "    </tr>\n",
       "    <tr>\n",
       "      <th>97</th>\n",
       "      <td>B01145</td>\n",
       "      <td>2020-04-01 00:24:01</td>\n",
       "      <td>2020-04-01 00:35:54</td>\n",
       "      <td>264.0</td>\n",
       "      <td>119</td>\n",
       "      <td>NaN</td>\n",
       "      <td>B02682</td>\n",
       "    </tr>\n",
       "    <tr>\n",
       "      <th>98</th>\n",
       "      <td>B01145</td>\n",
       "      <td>2020-04-01 00:47:28</td>\n",
       "      <td>2020-04-01 00:53:09</td>\n",
       "      <td>264.0</td>\n",
       "      <td>69</td>\n",
       "      <td>NaN</td>\n",
       "      <td>B02682</td>\n",
       "    </tr>\n",
       "    <tr>\n",
       "      <th>99</th>\n",
       "      <td>B01145</td>\n",
       "      <td>2020-04-01 00:58:15</td>\n",
       "      <td>2020-04-01 01:12:31</td>\n",
       "      <td>264.0</td>\n",
       "      <td>42</td>\n",
       "      <td>NaN</td>\n",
       "      <td>B02682</td>\n",
       "    </tr>\n",
       "  </tbody>\n",
       "</table>\n",
       "<p>100 rows × 7 columns</p>\n",
       "</div>"
      ],
      "text/plain": [
       "   dispatching_base_num      pickup_datetime     dropoff_datetime  \\\n",
       "0                B00008  2020-04-01 00:45:00  2020-04-01 00:58:00   \n",
       "1                B00037  2020-04-01 00:04:17  2020-04-01 00:17:31   \n",
       "2                B00037  2020-04-01 00:29:01  2020-04-01 00:33:58   \n",
       "3                B00037  2020-04-01 00:13:55  2020-04-01 00:18:30   \n",
       "4                B00037  2020-04-01 00:28:59  2020-04-01 00:31:02   \n",
       "..                  ...                  ...                  ...   \n",
       "95               B01145  2020-04-01 00:55:28  2020-04-01 01:00:01   \n",
       "96               B01145  2020-04-01 00:03:29  2020-04-01 00:19:56   \n",
       "97               B01145  2020-04-01 00:24:01  2020-04-01 00:35:54   \n",
       "98               B01145  2020-04-01 00:47:28  2020-04-01 00:53:09   \n",
       "99               B01145  2020-04-01 00:58:15  2020-04-01 01:12:31   \n",
       "\n",
       "    PULocationID  DOLocationID  SR_Flag Affiliated_base_number  \n",
       "0          264.0           264      NaN                 B00008  \n",
       "1          264.0            76      NaN                 B00037  \n",
       "2          264.0            35      NaN                 B00037  \n",
       "3          264.0           188      NaN                 B00037  \n",
       "4          264.0           188      NaN                 B00037  \n",
       "..           ...           ...      ...                    ...  \n",
       "95         264.0           242      NaN                 B02866  \n",
       "96         264.0           244      NaN                 B02682  \n",
       "97         264.0           119      NaN                 B02682  \n",
       "98         264.0            69      NaN                 B02682  \n",
       "99         264.0            42      NaN                 B02682  \n",
       "\n",
       "[100 rows x 7 columns]"
      ]
     },
     "execution_count": 9,
     "metadata": {},
     "output_type": "execute_result"
    }
   ],
   "source": [
    "df"
   ]
  },
  {
   "cell_type": "code",
   "execution_count": 8,
   "id": "dd825180-6b89-4775-bb3c-3320cdda297a",
   "metadata": {},
   "outputs": [
    {
     "name": "stdout",
     "output_type": "stream",
     "text": [
      "CREATE TABLE \"fhv_trip_data\" (\n",
      "\"dispatching_base_num\" TEXT,\n",
      "  \"pickup_datetime\" TEXT,\n",
      "  \"dropoff_datetime\" TEXT,\n",
      "  \"PULocationID\" REAL,\n",
      "  \"DOLocationID\" INTEGER,\n",
      "  \"SR_Flag\" REAL,\n",
      "  \"Affiliated_base_number\" TEXT\n",
      ")\n"
     ]
    }
   ],
   "source": [
    "print(get_schema(df, 'fhv_trip_data'))"
   ]
  }
 ],
 "metadata": {
  "kernelspec": {
   "display_name": "Python 3 (ipykernel)",
   "language": "python",
   "name": "python3"
  },
  "language_info": {
   "codemirror_mode": {
    "name": "ipython",
    "version": 3
   },
   "file_extension": ".py",
   "mimetype": "text/x-python",
   "name": "python",
   "nbconvert_exporter": "python",
   "pygments_lexer": "ipython3",
   "version": "3.12.1"
  }
 },
 "nbformat": 4,
 "nbformat_minor": 5
}
